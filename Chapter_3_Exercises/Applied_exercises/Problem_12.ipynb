{
 "cells": [
  {
   "cell_type": "markdown",
   "id": "f8a66ee6-aee1-4e0a-9a69-e3817f9376cb",
   "metadata": {},
   "source": [
    "# 12. This problem involves simple linear regression without an intercept."
   ]
  },
  {
   "cell_type": "markdown",
   "id": "23a4df87-5fa9-4db2-a452-de19e7a7bf5a",
   "metadata": {},
   "source": [
    "### (a) Recall that the coefficient estimate βˆ for the linear regression of Y onto X without an intercept is given by (3.38). Under what circumstance is the coefficient estimate for the regression of X onto Y the same as the coefficient estimate for the regression of Y onto X?"
   ]
  },
  {
   "cell_type": "code",
   "execution_count": 1,
   "id": "63bd6679-4450-4346-80a1-f94938e34ff7",
   "metadata": {},
   "outputs": [],
   "source": [
    "# Suppose X and Y are just numbers in two lists. If the total of all X squared values equals the total of all Y squared values, \n",
    "# then the calculated slopes for \"Y onto X\" and \"X onto Y\" (without intercepts) will be the same."
   ]
  },
  {
   "cell_type": "markdown",
   "id": "87835a1b-87d8-4cb1-b525-ce4ef386bfb7",
   "metadata": {},
   "source": [
    "### (b) Generate an example in Python with n = 100 observations in which the coefficient estimate for the regression of X onto Y is different from the coefficient estimate for the regression of Y onto X."
   ]
  },
  {
   "cell_type": "code",
   "execution_count": 2,
   "id": "4d07d7f1-3ea1-485b-b293-9d481edcf02c",
   "metadata": {},
   "outputs": [
    {
     "name": "stdout",
     "output_type": "stream",
     "text": [
      "Coefficient for Y on X (no intercept): 2.1191076359458987\n",
      "Coefficient for X on Y (no intercept): 0.38298134917052123\n"
     ]
    }
   ],
   "source": [
    "import numpy as np\n",
    "\n",
    "# Set random seed for reproducibility\n",
    "np.random.seed(0)\n",
    "\n",
    "n = 100\n",
    "\n",
    "# Generate random X values\n",
    "X = np.random.randn(n)\n",
    "\n",
    "# Generate Y values as a linear function of X, plus noise\n",
    "Y = 2 * X + np.random.randn(n)\n",
    "\n",
    "# Coefficient for regression of Y onto X (no intercept)\n",
    "beta_Y_on_X = np.sum(X * Y) / np.sum(X ** 2)\n",
    "\n",
    "# Coefficient for regression of X onto Y (no intercept)\n",
    "beta_X_on_Y = np.sum(X * Y) / np.sum(Y ** 2)\n",
    "\n",
    "print(\"Coefficient for Y on X (no intercept):\", beta_Y_on_X)\n",
    "print(\"Coefficient for X on Y (no intercept):\", beta_X_on_Y)\n"
   ]
  },
  {
   "cell_type": "code",
   "execution_count": 3,
   "id": "67ca19df-a27b-43cb-9dca-78759c5d1aef",
   "metadata": {},
   "outputs": [
    {
     "name": "stdout",
     "output_type": "stream",
     "text": [
      "Coefficient for Y on X (no intercept): 1.0\n",
      "Coefficient for X on Y (no intercept): 1.0\n"
     ]
    }
   ],
   "source": [
    "import numpy as np\n",
    "\n",
    "np.random.seed(42)\n",
    "n = 100\n",
    "\n",
    "# Generate any vector for X\n",
    "X = np.random.randn(n)\n",
    "\n",
    "# Let Y be exactly equal to X\n",
    "Y = X.copy()\n",
    "\n",
    "# Coefficient for regression of Y onto X (no intercept)\n",
    "beta_Y_on_X = np.sum(X * Y) / np.sum(X ** 2)\n",
    "\n",
    "# Coefficient for regression of X onto Y (no intercept)\n",
    "beta_X_on_Y = np.sum(X * Y) / np.sum(Y ** 2)\n",
    "\n",
    "print(\"Coefficient for Y on X (no intercept):\", beta_Y_on_X)\n",
    "print(\"Coefficient for X on Y (no intercept):\", beta_X_on_Y)\n"
   ]
  },
  {
   "cell_type": "code",
   "execution_count": null,
   "id": "729ba2dd-d625-47fa-a58e-6231cff0b97b",
   "metadata": {},
   "outputs": [],
   "source": []
  }
 ],
 "metadata": {
  "kernelspec": {
   "display_name": "Python 3 (ipykernel)",
   "language": "python",
   "name": "python3"
  },
  "language_info": {
   "codemirror_mode": {
    "name": "ipython",
    "version": 3
   },
   "file_extension": ".py",
   "mimetype": "text/x-python",
   "name": "python",
   "nbconvert_exporter": "python",
   "pygments_lexer": "ipython3",
   "version": "3.10.16"
  }
 },
 "nbformat": 4,
 "nbformat_minor": 5
}
