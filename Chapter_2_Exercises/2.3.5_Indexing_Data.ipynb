{
 "cells": [
  {
   "cell_type": "code",
   "execution_count": 2,
   "id": "18bdf3f6-2f49-4b83-b6c1-e2c986b19363",
   "metadata": {},
   "outputs": [
    {
     "data": {
      "text/plain": [
       "array([[ 0,  1,  2,  3],\n",
       "       [ 4,  5,  6,  7],\n",
       "       [ 8,  9, 10, 11],\n",
       "       [12, 13, 14, 15]])"
      ]
     },
     "execution_count": 2,
     "metadata": {},
     "output_type": "execute_result"
    }
   ],
   "source": [
    "import numpy as np\n",
    "\n",
    "A = np.array(np.arange(16)).reshape(4,4)\n",
    "A"
   ]
  },
  {
   "cell_type": "code",
   "execution_count": 3,
   "id": "b121100d-e324-4f55-b55a-1cc0f5447a9c",
   "metadata": {},
   "outputs": [
    {
     "data": {
      "text/plain": [
       "6"
      ]
     },
     "execution_count": 3,
     "metadata": {},
     "output_type": "execute_result"
    }
   ],
   "source": [
    "A[1,2]"
   ]
  },
  {
   "cell_type": "code",
   "execution_count": 4,
   "id": "95cdc0e4-23cc-42c9-b992-94789baafbf9",
   "metadata": {},
   "outputs": [],
   "source": [
    "#Indexing Rows, Columns, and Submatricies"
   ]
  },
  {
   "cell_type": "code",
   "execution_count": 6,
   "id": "8f5b2fcd-3764-467f-aff9-f8c8881319e4",
   "metadata": {},
   "outputs": [
    {
     "data": {
      "text/plain": [
       "array([[ 4,  5,  6,  7],\n",
       "       [12, 13, 14, 15]])"
      ]
     },
     "execution_count": 6,
     "metadata": {},
     "output_type": "execute_result"
    }
   ],
   "source": [
    "A[[1,3]] # row 1 and 3"
   ]
  },
  {
   "cell_type": "code",
   "execution_count": 7,
   "id": "a518000a-1262-46ba-ab2a-e95b4b402336",
   "metadata": {},
   "outputs": [
    {
     "data": {
      "text/plain": [
       "array([[ 0,  2],\n",
       "       [ 4,  6],\n",
       "       [ 8, 10],\n",
       "       [12, 14]])"
      ]
     },
     "execution_count": 7,
     "metadata": {},
     "output_type": "execute_result"
    }
   ],
   "source": [
    "A[:,[0,2]] # columns 0 and 2"
   ]
  },
  {
   "cell_type": "code",
   "execution_count": 10,
   "id": "d8fa7167-93b6-4d90-bc64-830f7489b97f",
   "metadata": {},
   "outputs": [
    {
     "data": {
      "text/plain": [
       "array([ 4, 14])"
      ]
     },
     "execution_count": 10,
     "metadata": {},
     "output_type": "execute_result"
    }
   ],
   "source": [
    "A[[1,3],[0,2]]"
   ]
  },
  {
   "cell_type": "code",
   "execution_count": 14,
   "id": "2478bacd-6826-4f11-a3f3-815273796478",
   "metadata": {},
   "outputs": [
    {
     "name": "stdout",
     "output_type": "stream",
     "text": [
      "identical to and a trick because\n"
     ]
    },
    {
     "data": {
      "text/plain": [
       "array([ 4, 14])"
      ]
     },
     "execution_count": 14,
     "metadata": {},
     "output_type": "execute_result"
    }
   ],
   "source": [
    "print('identical to and a trick because')\n",
    "np.array([A[1,0],A[3,2]])"
   ]
  },
  {
   "cell_type": "code",
   "execution_count": 15,
   "id": "7edf7cad-e122-49e4-b258-8b991e785c0f",
   "metadata": {},
   "outputs": [
    {
     "ename": "IndexError",
     "evalue": "shape mismatch: indexing arrays could not be broadcast together with shapes (2,) (3,) ",
     "output_type": "error",
     "traceback": [
      "\u001b[0;31m---------------------------------------------------------------------------\u001b[0m",
      "\u001b[0;31mIndexError\u001b[0m                                Traceback (most recent call last)",
      "Cell \u001b[0;32mIn[15], line 1\u001b[0m\n\u001b[0;32m----> 1\u001b[0m \u001b[43mA\u001b[49m\u001b[43m[\u001b[49m\u001b[43m[\u001b[49m\u001b[38;5;241;43m1\u001b[39;49m\u001b[43m,\u001b[49m\u001b[38;5;241;43m3\u001b[39;49m\u001b[43m]\u001b[49m\u001b[43m,\u001b[49m\u001b[43m[\u001b[49m\u001b[38;5;241;43m0\u001b[39;49m\u001b[43m,\u001b[49m\u001b[38;5;241;43m2\u001b[39;49m\u001b[43m,\u001b[49m\u001b[38;5;241;43m3\u001b[39;49m\u001b[43m]\u001b[49m\u001b[43m]\u001b[49m\n",
      "\u001b[0;31mIndexError\u001b[0m: shape mismatch: indexing arrays could not be broadcast together with shapes (2,) (3,) "
     ]
    }
   ],
   "source": [
    "A[[1,3],[0,2,3]]\n",
    "# What is happening is when supplied with two indexing lists, the numpy interpretation\n",
    "# is that these provide pairs of i,j indicies for a series of entries.\n",
    "# That is why the pair of lists must have the same length"
   ]
  },
  {
   "cell_type": "code",
   "execution_count": 21,
   "id": "19d2884e-dbcc-4bb5-b955-8579f551ee2a",
   "metadata": {},
   "outputs": [
    {
     "data": {
      "text/plain": [
       "array([[ 4,  6,  7],\n",
       "       [12, 14, 15]])"
      ]
     },
     "execution_count": 21,
     "metadata": {},
     "output_type": "execute_result"
    }
   ],
   "source": [
    "idx = np.ix_([1,3],[0,2,3])\n",
    "A[idx]\n",
    "\n",
    "# np.ix() allows us to extract a submatrix using lists creating an intermidiate mesh object"
   ]
  },
  {
   "cell_type": "code",
   "execution_count": 23,
   "id": "78d330f0-8b28-4fe0-8659-081a24216804",
   "metadata": {},
   "outputs": [
    {
     "data": {
      "text/plain": [
       "array([[ 4,  6],\n",
       "       [12, 14]])"
      ]
     },
     "execution_count": 23,
     "metadata": {},
     "output_type": "execute_result"
    }
   ],
   "source": [
    "#using slices\n",
    "A[1:4:2,0:3:2]\n",
    "\n",
    "#1:4:2 captures teh second and fourth items of a sequence, \n",
    "# 0:3:2 captures the first and third items"
   ]
  },
  {
   "cell_type": "code",
   "execution_count": 24,
   "id": "e52ac3d6-7dc4-475c-a523-92642fd46f8b",
   "metadata": {},
   "outputs": [],
   "source": [
    "#Boolean Indexing"
   ]
  },
  {
   "cell_type": "code",
   "execution_count": 27,
   "id": "99cd33d1-1eec-429d-a6fc-82c4c7ff1b90",
   "metadata": {},
   "outputs": [
    {
     "data": {
      "text/plain": [
       "array([False, False, False, False])"
      ]
     },
     "execution_count": 27,
     "metadata": {},
     "output_type": "execute_result"
    }
   ],
   "source": [
    "keep_rows = np.zeros(A.shape[0], bool)\n",
    "keep_rows\n",
    "\n",
    "# creates a vector of 0's represented of Booleans of length equal to the first dimension of A"
   ]
  },
  {
   "cell_type": "code",
   "execution_count": 28,
   "id": "7d8f0c83-3db2-4a83-9b98-204ae1716f52",
   "metadata": {},
   "outputs": [
    {
     "data": {
      "text/plain": [
       "array([False,  True, False,  True])"
      ]
     },
     "execution_count": 28,
     "metadata": {},
     "output_type": "execute_result"
    }
   ],
   "source": [
    "keep_rows[[1,3]] = True\n",
    "keep_rows"
   ]
  },
  {
   "cell_type": "code",
   "execution_count": 31,
   "id": "80415746-6c63-4a5e-91f9-bf7a6e4b839d",
   "metadata": {},
   "outputs": [
    {
     "data": {
      "text/plain": [
       "True"
      ]
     },
     "execution_count": 31,
     "metadata": {},
     "output_type": "execute_result"
    }
   ],
   "source": [
    "np.all(keep_rows == np.array([0,1,0,1]))\n",
    "# np.all checked whether all the entries are true"
   ]
  },
  {
   "cell_type": "code",
   "execution_count": 33,
   "id": "d0ed8172-f366-40c1-a603-140df2dd92e4",
   "metadata": {},
   "outputs": [
    {
     "data": {
      "text/plain": [
       "array([[0, 1, 2, 3],\n",
       "       [4, 5, 6, 7],\n",
       "       [0, 1, 2, 3],\n",
       "       [4, 5, 6, 7]])"
      ]
     },
     "execution_count": 33,
     "metadata": {},
     "output_type": "execute_result"
    }
   ],
   "source": [
    "A[np.array([0,1,0,1])]"
   ]
  },
  {
   "cell_type": "code",
   "execution_count": 34,
   "id": "2e4e38a1-713c-46b0-a0b8-a374dc0b564b",
   "metadata": {},
   "outputs": [
    {
     "data": {
      "text/plain": [
       "array([[ 4,  5,  6,  7],\n",
       "       [12, 13, 14, 15]])"
      ]
     },
     "execution_count": 34,
     "metadata": {},
     "output_type": "execute_result"
    }
   ],
   "source": [
    "A[keep_rows]"
   ]
  },
  {
   "cell_type": "code",
   "execution_count": 36,
   "id": "f44836f1-671f-41c4-af95-93b7620b2c92",
   "metadata": {},
   "outputs": [
    {
     "data": {
      "text/plain": [
       "array([[ 4,  6,  7],\n",
       "       [12, 14, 15]])"
      ]
     },
     "execution_count": 36,
     "metadata": {},
     "output_type": "execute_result"
    }
   ],
   "source": [
    "keep_cols = np.zeros(A.shape[1], bool)\n",
    "keep_cols[[0,2,3]] = True\n",
    "idx_bool = np.ix_(keep_rows, keep_cols)\n",
    "A[idx_bool]"
   ]
  },
  {
   "cell_type": "code",
   "execution_count": 37,
   "id": "8df81dd9-0685-43fb-b0b8-4ba6cef0bb6f",
   "metadata": {},
   "outputs": [
    {
     "data": {
      "text/plain": [
       "array([[ 4,  6,  7],\n",
       "       [12, 14, 15]])"
      ]
     },
     "execution_count": 37,
     "metadata": {},
     "output_type": "execute_result"
    }
   ],
   "source": [
    "# we can also mix a list with an array of Booleans\n",
    "idx_mixed = np.ix_([1,3], keep_cols)\n",
    "A[idx_mixed]"
   ]
  },
  {
   "cell_type": "code",
   "execution_count": null,
   "id": "8ec19339-447e-4856-abed-3a8d98909e54",
   "metadata": {},
   "outputs": [],
   "source": []
  }
 ],
 "metadata": {
  "kernelspec": {
   "display_name": "Python 3 (ipykernel)",
   "language": "python",
   "name": "python3"
  },
  "language_info": {
   "codemirror_mode": {
    "name": "ipython",
    "version": 3
   },
   "file_extension": ".py",
   "mimetype": "text/x-python",
   "name": "python",
   "nbconvert_exporter": "python",
   "pygments_lexer": "ipython3",
   "version": "3.10.16"
  }
 },
 "nbformat": 4,
 "nbformat_minor": 5
}
