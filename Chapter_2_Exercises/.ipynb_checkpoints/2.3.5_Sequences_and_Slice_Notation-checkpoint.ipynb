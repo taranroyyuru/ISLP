{
 "cells": [
  {
   "cell_type": "code",
   "execution_count": 4,
   "id": "1a732b0f-94f1-4d7f-b6fa-698a94561e9d",
   "metadata": {},
   "outputs": [
    {
     "data": {
      "text/plain": [
       "array([ 0.,  1.,  2.,  3.,  4.,  5.,  6.,  7.,  8.,  9., 10.])"
      ]
     },
     "execution_count": 4,
     "metadata": {},
     "output_type": "execute_result"
    }
   ],
   "source": [
    "import numpy as np\n",
    "seq1 = np.linspace(0,10,11)\n",
    "seq1\n",
    "#created a sequence of numbers"
   ]
  },
  {
   "cell_type": "code",
   "execution_count": 8,
   "id": "144db25b-1574-4761-bd44-2622a4b6a266",
   "metadata": {},
   "outputs": [
    {
     "data": {
      "text/plain": [
       "array([0, 1, 2, 3, 4, 5, 6, 7, 8, 9])"
      ]
     },
     "execution_count": 8,
     "metadata": {},
     "output_type": "execute_result"
    }
   ],
   "source": [
    "seq2 = np.arange(0,10)\n",
    "seq2\n",
    "\n",
    "#sequence starts at 0 ends at 10"
   ]
  },
  {
   "cell_type": "code",
   "execution_count": 10,
   "id": "1002a5e4-354f-4914-b4dc-c25e4d269c84",
   "metadata": {},
   "outputs": [
    {
     "data": {
      "text/plain": [
       "'lo '"
      ]
     },
     "execution_count": 10,
     "metadata": {},
     "output_type": "execute_result"
    }
   ],
   "source": [
    "\"hello world\"[3:6]\n",
    "#non inclusive upper bound"
   ]
  }
 ],
 "metadata": {
  "kernelspec": {
   "display_name": "Python 3 (ipykernel)",
   "language": "python",
   "name": "python3"
  },
  "language_info": {
   "codemirror_mode": {
    "name": "ipython",
    "version": 3
   },
   "file_extension": ".py",
   "mimetype": "text/x-python",
   "name": "python",
   "nbconvert_exporter": "python",
   "pygments_lexer": "ipython3",
   "version": "3.10.16"
  }
 },
 "nbformat": 4,
 "nbformat_minor": 5
}
