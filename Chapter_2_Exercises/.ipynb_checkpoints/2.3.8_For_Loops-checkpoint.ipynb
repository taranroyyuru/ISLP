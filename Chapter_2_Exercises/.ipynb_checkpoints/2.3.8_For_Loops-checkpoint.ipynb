{
 "cells": [
  {
   "cell_type": "code",
   "execution_count": 1,
   "id": "033aab47-3487-43d3-85d8-a90c7cf36b2f",
   "metadata": {},
   "outputs": [
    {
     "name": "stdout",
     "output_type": "stream",
     "text": [
      "Total is :24\n"
     ]
    }
   ],
   "source": [
    "total = 0\n",
    "for value in [3,2,19]:\n",
    "    total += value\n",
    "print('Total is :{0}'.format(total))"
   ]
  },
  {
   "cell_type": "code",
   "execution_count": 2,
   "id": "34622638-b38b-469c-94d8-c59038d1a1f8",
   "metadata": {},
   "outputs": [
    {
     "name": "stdout",
     "output_type": "stream",
     "text": [
      "Total is :144\n"
     ]
    }
   ],
   "source": [
    "total = 0\n",
    "for value in [2,3,19]:\n",
    "    for weight in [3,2,1]:\n",
    "        total += value*weight\n",
    "print('Total is :{0}'.format(total))"
   ]
  },
  {
   "cell_type": "code",
   "execution_count": 3,
   "id": "91b58f6b-7cc2-4aa8-b30b-a3132794455b",
   "metadata": {},
   "outputs": [],
   "source": [
    "# To compute the average value of a random variable that takes palce on the possible values 2,3, or 19\n",
    "# with prob .2,.3,.5, zip() function can do that"
   ]
  },
  {
   "cell_type": "code",
   "execution_count": 5,
   "id": "fa14afa3-995e-4d82-9351-e37613444c2c",
   "metadata": {},
   "outputs": [
    {
     "name": "stdout",
     "output_type": "stream",
     "text": [
      "Weighted average is: 10.8\n"
     ]
    }
   ],
   "source": [
    "total = 0\n",
    "for value, weight in zip([2,3,19],\n",
    "                         [0.2,0.3,0.5]):\n",
    "    total += weight * value\n",
    "print('Weighted average is: {0}'.format(total))"
   ]
  },
  {
   "cell_type": "code",
   "execution_count": 6,
   "id": "0e74a7f4-1179-4e10-acaa-652ed3bfb1a8",
   "metadata": {},
   "outputs": [],
   "source": [
    "#String Formatting"
   ]
  },
  {
   "cell_type": "code",
   "execution_count": 9,
   "id": "1fad0b55-c781-4431-a47c-28661a5faabd",
   "metadata": {},
   "outputs": [],
   "source": [
    "import numpy as np\n",
    "import pandas as pd"
   ]
  },
  {
   "cell_type": "code",
   "execution_count": 10,
   "id": "7754c293-2829-4091-9048-aa118d8edd4e",
   "metadata": {},
   "outputs": [
    {
     "data": {
      "text/html": [
       "<div>\n",
       "<style scoped>\n",
       "    .dataframe tbody tr th:only-of-type {\n",
       "        vertical-align: middle;\n",
       "    }\n",
       "\n",
       "    .dataframe tbody tr th {\n",
       "        vertical-align: top;\n",
       "    }\n",
       "\n",
       "    .dataframe thead th {\n",
       "        text-align: right;\n",
       "    }\n",
       "</style>\n",
       "<table border=\"1\" class=\"dataframe\">\n",
       "  <thead>\n",
       "    <tr style=\"text-align: right;\">\n",
       "      <th></th>\n",
       "      <th>food</th>\n",
       "      <th>bar</th>\n",
       "      <th>pickle</th>\n",
       "      <th>snack</th>\n",
       "      <th>popcorn</th>\n",
       "    </tr>\n",
       "  </thead>\n",
       "  <tbody>\n",
       "    <tr>\n",
       "      <th>0</th>\n",
       "      <td>0.345584</td>\n",
       "      <td>0.821618</td>\n",
       "      <td>0.330437</td>\n",
       "      <td>-1.303157</td>\n",
       "      <td>NaN</td>\n",
       "    </tr>\n",
       "    <tr>\n",
       "      <th>1</th>\n",
       "      <td>NaN</td>\n",
       "      <td>-0.536953</td>\n",
       "      <td>0.581118</td>\n",
       "      <td>0.364572</td>\n",
       "      <td>0.294132</td>\n",
       "    </tr>\n",
       "    <tr>\n",
       "      <th>2</th>\n",
       "      <td>NaN</td>\n",
       "      <td>0.546713</td>\n",
       "      <td>NaN</td>\n",
       "      <td>-0.162910</td>\n",
       "      <td>-0.482119</td>\n",
       "    </tr>\n",
       "  </tbody>\n",
       "</table>\n",
       "</div>"
      ],
      "text/plain": [
       "       food       bar    pickle     snack   popcorn\n",
       "0  0.345584  0.821618  0.330437 -1.303157       NaN\n",
       "1       NaN -0.536953  0.581118  0.364572  0.294132\n",
       "2       NaN  0.546713       NaN -0.162910 -0.482119"
      ]
     },
     "execution_count": 10,
     "metadata": {},
     "output_type": "execute_result"
    }
   ],
   "source": [
    "rng = np.random.default_rng(1)\n",
    "A = rng.standard_normal((127,5))\n",
    "M = rng.choice([0,np.nan], p = [0.8,0.2], size = A.shape)\n",
    "A += M\n",
    "D = pd.DataFrame(A, columns = ['food',\n",
    "                               'bar',\n",
    "                               'pickle',\n",
    "                               'snack',\n",
    "                               'popcorn'])\n",
    "D[:3]\n",
    "\n",
    "#Create a data fram D with columsn in which 20% of the entries are missing ie set to  np.nan"
   ]
  },
  {
   "cell_type": "code",
   "execution_count": 11,
   "id": "eee2ae31-09a0-4ca2-a9a0-ed5a1dbfd9df",
   "metadata": {},
   "outputs": [
    {
     "name": "stdout",
     "output_type": "stream",
     "text": [
      "Column \"food\" has 16.54% missing values\n",
      "Column \"bar\" has 25.98% missing values\n",
      "Column \"pickle\" has 29.13% missing values\n",
      "Column \"snack\" has 21.26% missing values\n",
      "Column \"popcorn\" has 22.83% missing values\n"
     ]
    }
   ],
   "source": [
    "for col in D.columns:\n",
    "    template = 'Column \"{0}\" has {1:.2%} missing values'\n",
    "    print(template.format(col,\n",
    "    np.isnan(D[col]).mean()))"
   ]
  },
  {
   "cell_type": "code",
   "execution_count": 12,
   "id": "c781c12f-b945-4e1f-8391-dd591f07edf8",
   "metadata": {},
   "outputs": [
    {
     "data": {
      "text/html": [
       "<div>\n",
       "<style scoped>\n",
       "    .dataframe tbody tr th:only-of-type {\n",
       "        vertical-align: middle;\n",
       "    }\n",
       "\n",
       "    .dataframe tbody tr th {\n",
       "        vertical-align: top;\n",
       "    }\n",
       "\n",
       "    .dataframe thead th {\n",
       "        text-align: right;\n",
       "    }\n",
       "</style>\n",
       "<table border=\"1\" class=\"dataframe\">\n",
       "  <thead>\n",
       "    <tr style=\"text-align: right;\">\n",
       "      <th></th>\n",
       "      <th>food</th>\n",
       "      <th>bar</th>\n",
       "      <th>pickle</th>\n",
       "      <th>snack</th>\n",
       "      <th>popcorn</th>\n",
       "    </tr>\n",
       "  </thead>\n",
       "  <tbody>\n",
       "    <tr>\n",
       "      <th>0</th>\n",
       "      <td>0.345584</td>\n",
       "      <td>0.821618</td>\n",
       "      <td>0.330437</td>\n",
       "      <td>-1.303157</td>\n",
       "      <td>NaN</td>\n",
       "    </tr>\n",
       "    <tr>\n",
       "      <th>1</th>\n",
       "      <td>NaN</td>\n",
       "      <td>-0.536953</td>\n",
       "      <td>0.581118</td>\n",
       "      <td>0.364572</td>\n",
       "      <td>0.294132</td>\n",
       "    </tr>\n",
       "    <tr>\n",
       "      <th>2</th>\n",
       "      <td>NaN</td>\n",
       "      <td>0.546713</td>\n",
       "      <td>NaN</td>\n",
       "      <td>-0.162910</td>\n",
       "      <td>-0.482119</td>\n",
       "    </tr>\n",
       "    <tr>\n",
       "      <th>3</th>\n",
       "      <td>0.598846</td>\n",
       "      <td>NaN</td>\n",
       "      <td>NaN</td>\n",
       "      <td>-0.781908</td>\n",
       "      <td>NaN</td>\n",
       "    </tr>\n",
       "    <tr>\n",
       "      <th>4</th>\n",
       "      <td>0.008142</td>\n",
       "      <td>-0.275603</td>\n",
       "      <td>1.294064</td>\n",
       "      <td>NaN</td>\n",
       "      <td>-2.711162</td>\n",
       "    </tr>\n",
       "    <tr>\n",
       "      <th>...</th>\n",
       "      <td>...</td>\n",
       "      <td>...</td>\n",
       "      <td>...</td>\n",
       "      <td>...</td>\n",
       "      <td>...</td>\n",
       "    </tr>\n",
       "    <tr>\n",
       "      <th>122</th>\n",
       "      <td>NaN</td>\n",
       "      <td>-1.421741</td>\n",
       "      <td>0.011192</td>\n",
       "      <td>NaN</td>\n",
       "      <td>0.128476</td>\n",
       "    </tr>\n",
       "    <tr>\n",
       "      <th>123</th>\n",
       "      <td>0.887647</td>\n",
       "      <td>-0.243649</td>\n",
       "      <td>0.730347</td>\n",
       "      <td>0.720844</td>\n",
       "      <td>NaN</td>\n",
       "    </tr>\n",
       "    <tr>\n",
       "      <th>124</th>\n",
       "      <td>1.716248</td>\n",
       "      <td>0.778838</td>\n",
       "      <td>NaN</td>\n",
       "      <td>-0.680824</td>\n",
       "      <td>-0.845306</td>\n",
       "    </tr>\n",
       "    <tr>\n",
       "      <th>125</th>\n",
       "      <td>0.475867</td>\n",
       "      <td>-0.323722</td>\n",
       "      <td>2.729167</td>\n",
       "      <td>1.842448</td>\n",
       "      <td>-0.214524</td>\n",
       "    </tr>\n",
       "    <tr>\n",
       "      <th>126</th>\n",
       "      <td>-0.329131</td>\n",
       "      <td>1.690177</td>\n",
       "      <td>-1.883360</td>\n",
       "      <td>-0.451551</td>\n",
       "      <td>0.950757</td>\n",
       "    </tr>\n",
       "  </tbody>\n",
       "</table>\n",
       "<p>127 rows × 5 columns</p>\n",
       "</div>"
      ],
      "text/plain": [
       "         food       bar    pickle     snack   popcorn\n",
       "0    0.345584  0.821618  0.330437 -1.303157       NaN\n",
       "1         NaN -0.536953  0.581118  0.364572  0.294132\n",
       "2         NaN  0.546713       NaN -0.162910 -0.482119\n",
       "3    0.598846       NaN       NaN -0.781908       NaN\n",
       "4    0.008142 -0.275603  1.294064       NaN -2.711162\n",
       "..        ...       ...       ...       ...       ...\n",
       "122       NaN -1.421741  0.011192       NaN  0.128476\n",
       "123  0.887647 -0.243649  0.730347  0.720844       NaN\n",
       "124  1.716248  0.778838       NaN -0.680824 -0.845306\n",
       "125  0.475867 -0.323722  2.729167  1.842448 -0.214524\n",
       "126 -0.329131  1.690177 -1.883360 -0.451551  0.950757\n",
       "\n",
       "[127 rows x 5 columns]"
      ]
     },
     "execution_count": 12,
     "metadata": {},
     "output_type": "execute_result"
    }
   ],
   "source": [
    "D"
   ]
  },
  {
   "cell_type": "code",
   "execution_count": null,
   "id": "3572b5d0-a9a5-4e64-b523-a5894b3583b4",
   "metadata": {},
   "outputs": [],
   "source": []
  }
 ],
 "metadata": {
  "kernelspec": {
   "display_name": "Python 3 (ipykernel)",
   "language": "python",
   "name": "python3"
  },
  "language_info": {
   "codemirror_mode": {
    "name": "ipython",
    "version": 3
   },
   "file_extension": ".py",
   "mimetype": "text/x-python",
   "name": "python",
   "nbconvert_exporter": "python",
   "pygments_lexer": "ipython3",
   "version": "3.10.16"
  }
 },
 "nbformat": 4,
 "nbformat_minor": 5
}
