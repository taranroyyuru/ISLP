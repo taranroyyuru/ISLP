{
 "cells": [
  {
   "cell_type": "code",
   "execution_count": 1,
   "id": "bb325161-a4f5-4ce1-b94d-f517dc59b902",
   "metadata": {},
   "outputs": [],
   "source": [
    "import numpy as np"
   ]
  },
  {
   "cell_type": "code",
   "execution_count": 2,
   "id": "0e0dd2b3-68fa-4d05-bd22-6ae4b4f006ec",
   "metadata": {},
   "outputs": [],
   "source": [
    "#arrays\n",
    "x = np.array([3,4,5])\n",
    "y = np.array([4,9,7])"
   ]
  },
  {
   "cell_type": "code",
   "execution_count": 3,
   "id": "19c66245-e0ab-4be5-ad73-9243ac8fa523",
   "metadata": {},
   "outputs": [
    {
     "data": {
      "text/plain": [
       "array([ 7, 13, 12])"
      ]
     },
     "execution_count": 3,
     "metadata": {},
     "output_type": "execute_result"
    }
   ],
   "source": [
    "x+y"
   ]
  },
  {
   "cell_type": "code",
   "execution_count": 5,
   "id": "c2643d51-8e6b-4416-bf17-edd2427d4cc7",
   "metadata": {},
   "outputs": [
    {
     "data": {
      "text/plain": [
       "array([[1, 2],\n",
       "       [3, 4]])"
      ]
     },
     "execution_count": 5,
     "metadata": {},
     "output_type": "execute_result"
    }
   ],
   "source": [
    "#two dimensional array\n",
    "x = np.array([[1,2],[3,4]])\n",
    "x"
   ]
  },
  {
   "cell_type": "code",
   "execution_count": 6,
   "id": "73c5748b-5c21-4848-afe7-35162dca43c7",
   "metadata": {},
   "outputs": [
    {
     "data": {
      "text/plain": [
       "2"
      ]
     },
     "execution_count": 6,
     "metadata": {},
     "output_type": "execute_result"
    }
   ],
   "source": [
    "x.ndim"
   ]
  },
  {
   "cell_type": "code",
   "execution_count": 7,
   "id": "01d99087-55fc-43d3-961e-f020eadca40f",
   "metadata": {},
   "outputs": [
    {
     "data": {
      "text/plain": [
       "dtype('int64')"
      ]
     },
     "execution_count": 7,
     "metadata": {},
     "output_type": "execute_result"
    }
   ],
   "source": [
    "x.dtype #64 bit integers"
   ]
  },
  {
   "cell_type": "code",
   "execution_count": 8,
   "id": "30d8a6fe-3d90-460d-8dd7-9bd66a68b306",
   "metadata": {},
   "outputs": [
    {
     "data": {
      "text/plain": [
       "dtype('float64')"
      ]
     },
     "execution_count": 8,
     "metadata": {},
     "output_type": "execute_result"
    }
   ],
   "source": [
    "x = np.array([[1,2],[3.0 , 4]])\n",
    "x.dtype # because of the 3.0 it's a float"
   ]
  },
  {
   "cell_type": "code",
   "execution_count": 9,
   "id": "01a5fb2a-903a-4d57-be71-3dc11666b361",
   "metadata": {},
   "outputs": [
    {
     "data": {
      "text/plain": [
       "(2, 2)"
      ]
     },
     "execution_count": 9,
     "metadata": {},
     "output_type": "execute_result"
    }
   ],
   "source": [
    "x.shape"
   ]
  },
  {
   "cell_type": "code",
   "execution_count": 10,
   "id": "82ec40af-206d-4c22-b490-b6fad2a9705d",
   "metadata": {},
   "outputs": [
    {
     "data": {
      "text/plain": [
       "10"
      ]
     },
     "execution_count": 10,
     "metadata": {},
     "output_type": "execute_result"
    }
   ],
   "source": [
    "x = np.array([1,2,3,4])\n",
    "x.sum()"
   ]
  },
  {
   "cell_type": "code",
   "execution_count": 12,
   "id": "9cde98e2-c273-45c1-a86a-ac89ed063fc9",
   "metadata": {},
   "outputs": [
    {
     "data": {
      "text/plain": [
       "10"
      ]
     },
     "execution_count": 12,
     "metadata": {},
     "output_type": "execute_result"
    }
   ],
   "source": [
    "x = np.array([1,2,3,4])\n",
    "np.sum(x)"
   ]
  },
  {
   "cell_type": "code",
   "execution_count": 17,
   "id": "1125cd7d-c1eb-4edb-8d81-97b25690cada",
   "metadata": {},
   "outputs": [
    {
     "name": "stdout",
     "output_type": "stream",
     "text": [
      "beginning x:\n",
      " [1 2 3 4 5 6]\n",
      "reshaped x:\n",
      " [[1 2 3]\n",
      " [4 5 6]]\n",
      "uno mas:\n",
      " [[1 2]\n",
      " [3 4]\n",
      " [5 6]]\n"
     ]
    }
   ],
   "source": [
    "x = np.array([1,2,3,4,5,6])\n",
    "print('beginning x:\\n', x)\n",
    "x_reshape = x.reshape((2,3))\n",
    "print('reshaped x:\\n' , x_reshape)\n",
    "x_reshape = x.reshape((3,2))\n",
    "print('uno mas:\\n' , x_reshape)\n",
    "\n",
    "x_reshape = x.reshape((2,3))\n",
    "#Row majoring order"
   ]
  },
  {
   "cell_type": "code",
   "execution_count": 18,
   "id": "d43b5220-756a-408f-8ba4-e5f548c3173e",
   "metadata": {},
   "outputs": [
    {
     "data": {
      "text/plain": [
       "1"
      ]
     },
     "execution_count": 18,
     "metadata": {},
     "output_type": "execute_result"
    }
   ],
   "source": [
    "x_reshape[0,0]"
   ]
  },
  {
   "cell_type": "code",
   "execution_count": 19,
   "id": "405b2b0c-dea1-4d6f-a836-0b1c9565c49d",
   "metadata": {},
   "outputs": [
    {
     "data": {
      "text/plain": [
       "6"
      ]
     },
     "execution_count": 19,
     "metadata": {},
     "output_type": "execute_result"
    }
   ],
   "source": [
    "x_reshape[1,2]"
   ]
  },
  {
   "cell_type": "code",
   "execution_count": 23,
   "id": "4ad7b85b-5f92-4566-8693-3b1124d65beb",
   "metadata": {},
   "outputs": [
    {
     "name": "stdout",
     "output_type": "stream",
     "text": [
      "x before we modify x_reshape:\n",
      " [1 2 3 4 5 6]\n",
      "x_reshape before we modify x_reshape:\n",
      " [[5 2 3]\n",
      " [4 5 6]]\n",
      "x_reshape after we modify its top left element:\n",
      " [[5 2 3]\n",
      " [4 5 6]]\n"
     ]
    }
   ],
   "source": [
    "x = np.array([1,2,3,4,5,6])\n",
    "print('x before we modify x_reshape:\\n',x)\n",
    "print('x_reshape before we modify x_reshape:\\n', x_reshape)\n",
    "x_reshape[0,0] = 5\n",
    "\n",
    "#elements of a tuple can't be modified where the elemnents of a list can"
   ]
  },
  {
   "cell_type": "code",
   "execution_count": 24,
   "id": "b10387fe-78ed-428c-a338-35b15cf89007",
   "metadata": {},
   "outputs": [
    {
     "ename": "TypeError",
     "evalue": "'tuple' object does not support item assignment",
     "output_type": "error",
     "traceback": [
      "\u001b[0;31m---------------------------------------------------------------------------\u001b[0m",
      "\u001b[0;31mTypeError\u001b[0m                                 Traceback (most recent call last)",
      "Cell \u001b[0;32mIn[24], line 2\u001b[0m\n\u001b[1;32m      1\u001b[0m my_tuple \u001b[38;5;241m=\u001b[39m (\u001b[38;5;241m3\u001b[39m,\u001b[38;5;241m4\u001b[39m,\u001b[38;5;241m5\u001b[39m)\n\u001b[0;32m----> 2\u001b[0m my_tuple[\u001b[38;5;241m0\u001b[39m] \u001b[38;5;241m=\u001b[39m \u001b[38;5;241m2\u001b[39m\n",
      "\u001b[0;31mTypeError\u001b[0m: 'tuple' object does not support item assignment"
     ]
    }
   ],
   "source": [
    "my_tuple = (3,4,5)\n",
    "my_tuple[0] = 2"
   ]
  },
  {
   "cell_type": "code",
   "execution_count": 27,
   "id": "cde00926-f470-4c62-978b-361348e828e7",
   "metadata": {},
   "outputs": [
    {
     "data": {
      "text/plain": [
       "((2, 3),\n",
       " 2,\n",
       " array([[5, 4],\n",
       "        [2, 5],\n",
       "        [3, 6]]))"
      ]
     },
     "execution_count": 27,
     "metadata": {},
     "output_type": "execute_result"
    }
   ],
   "source": [
    "x_reshape.shape, x_reshape.ndim, x_reshape.T # --> this provides its transpose\n",
    "#the outputs are tuples"
   ]
  },
  {
   "cell_type": "code",
   "execution_count": 28,
   "id": "297244a6-5516-4dd0-bc05-08050aca21c0",
   "metadata": {},
   "outputs": [
    {
     "data": {
      "text/plain": [
       "array([1.        , 1.41421356, 1.73205081, 2.        , 2.23606798,\n",
       "       2.44948974])"
      ]
     },
     "execution_count": 28,
     "metadata": {},
     "output_type": "execute_result"
    }
   ],
   "source": [
    "np.sqrt(x)"
   ]
  },
  {
   "cell_type": "code",
   "execution_count": 29,
   "id": "64ad0e57-b7a4-419a-aa2c-9babb26b9dc6",
   "metadata": {},
   "outputs": [
    {
     "data": {
      "text/plain": [
       "array([ 1,  4,  9, 16, 25, 36])"
      ]
     },
     "execution_count": 29,
     "metadata": {},
     "output_type": "execute_result"
    }
   ],
   "source": [
    "x**2"
   ]
  },
  {
   "cell_type": "code",
   "execution_count": 30,
   "id": "a2614174-36e1-4c1c-b095-f54c4b4651a2",
   "metadata": {},
   "outputs": [
    {
     "data": {
      "text/plain": [
       "array([1.        , 1.41421356, 1.73205081, 2.        , 2.23606798,\n",
       "       2.44948974])"
      ]
     },
     "execution_count": 30,
     "metadata": {},
     "output_type": "execute_result"
    }
   ],
   "source": [
    "x**0.5"
   ]
  },
  {
   "cell_type": "code",
   "execution_count": 33,
   "id": "51d87050-a603-4cea-a25f-ddce51ad5719",
   "metadata": {},
   "outputs": [
    {
     "data": {
      "text/plain": [
       "array([-9.65650184e-01,  8.59457269e-01,  2.18001650e-01, -7.85988519e-01,\n",
       "        2.93582044e-02, -2.59637406e+00, -1.03012262e+00, -8.31997201e-01,\n",
       "       -1.48397060e+00, -4.00368599e-01, -3.34624767e+00,  2.76583021e-01,\n",
       "        9.71701293e-01, -2.53780410e-01, -7.77626576e-01, -1.37204971e+00,\n",
       "       -7.25244093e-01, -2.22287430e-01, -4.19380349e-01, -1.44089699e-02,\n",
       "       -9.19484677e-01, -4.95826446e-01,  1.53136003e+00,  2.28511626e+00,\n",
       "       -6.24141775e-01, -1.42413118e-01, -1.20239507e+00,  3.12810167e-01,\n",
       "       -1.85930684e-01,  7.48483638e-01,  1.32132899e+00,  1.29273867e-01,\n",
       "       -9.10975153e-01,  1.54153578e-01, -1.07949544e-03,  7.12499267e-01,\n",
       "        8.69612090e-01,  3.88267314e-01,  1.26511210e-03,  7.32867062e-02,\n",
       "        1.22729229e+00,  6.74277275e-01, -8.54620480e-02,  5.03432694e-01,\n",
       "       -1.19977441e+00, -1.43384408e+00, -6.63795439e-01, -1.21170636e-01,\n",
       "        1.54600146e+00,  1.30923814e+00])"
      ]
     },
     "execution_count": 33,
     "metadata": {},
     "output_type": "execute_result"
    }
   ],
   "source": [
    "#randome data\n",
    "x = np.random.normal(size = 50) #will generate a vector of random normal variables\n",
    "x\n",
    "#generates 50 random independent RV from a N(0,1)"
   ]
  },
  {
   "cell_type": "code",
   "execution_count": 34,
   "id": "e0464cda-cc78-46eb-8bf0-2b0d3cbdc733",
   "metadata": {},
   "outputs": [],
   "source": [
    "y = x + np.random.normal(loc = 50, scale = 1, size = 50)\n",
    "# function will gnerate random normal variables with mean (loc) = 0 and sd(scale) = 1\n",
    "# creates an array y by adding an independent N(50,1) RV to each element of X"
   ]
  },
  {
   "cell_type": "code",
   "execution_count": 35,
   "id": "7e56c779-2e9c-4188-bfdc-a4b4cb557ccd",
   "metadata": {},
   "outputs": [
    {
     "data": {
      "text/plain": [
       "array([[1.        , 0.68497341],\n",
       "       [0.68497341, 1.        ]])"
      ]
     },
     "execution_count": 35,
     "metadata": {},
     "output_type": "execute_result"
    }
   ],
   "source": [
    "np.corrcoef(x,y)\n",
    "#left top and bottom right are corrlated to itself\n",
    "#other two colums are pearson correlation "
   ]
  },
  {
   "cell_type": "code",
   "execution_count": 36,
   "id": "605baf63-2429-4574-ac73-8668d5f56fdd",
   "metadata": {},
   "outputs": [
    {
     "name": "stdout",
     "output_type": "stream",
     "text": [
      "[ 6.21976119 -6.02233033]\n",
      "[-0.87570829  3.97613841]\n"
     ]
    }
   ],
   "source": [
    "print(np.random.normal(scale = 5,size = 2))\n",
    "#different results\n",
    "print(np.random.normal(scale = 5,size = 2))"
   ]
  },
  {
   "cell_type": "code",
   "execution_count": null,
   "id": "53ef30dc-a083-48e6-abf7-19beddfdc6dd",
   "metadata": {},
   "outputs": [],
   "source": [
    "np.random.default_rng()\n",
    "#takes an arbitrary, user-specififed integer argument\n",
    "#the rng has essentially all the random number generating methods found in np.random"
   ]
  },
  {
   "cell_type": "code",
   "execution_count": 38,
   "id": "0671b6f9-63f5-464f-b627-be0926db8d3c",
   "metadata": {},
   "outputs": [
    {
     "name": "stdout",
     "output_type": "stream",
     "text": [
      "[ 4.09482632 -1.07485605]\n",
      "[ 4.09482632 -1.07485605]\n"
     ]
    }
   ],
   "source": [
    "rng = np.random.default_rng(1303)\n",
    "print(rng.normal(scale = 5, size = 2))\n",
    "rng2 = np.random.default_rng(1303)\n",
    "print(rng2.normal(scale = 5, size =2))\n",
    "\n",
    "#same values\n",
    "# use this trhought the book"
   ]
  },
  {
   "cell_type": "code",
   "execution_count": 39,
   "id": "f56e73c8-d7e0-405b-b8c1-9304f6888ba1",
   "metadata": {},
   "outputs": [
    {
     "data": {
      "text/plain": [
       "(-0.1126795190952861, -0.1126795190952861)"
      ]
     },
     "execution_count": 39,
     "metadata": {},
     "output_type": "execute_result"
    }
   ],
   "source": [
    "rng = np.random.default_rng(3)\n",
    "y = rng.standard_normal(10)\n",
    "np.mean(y), y.mean()"
   ]
  },
  {
   "cell_type": "code",
   "execution_count": 41,
   "id": "b9af54ca-2c5e-4fdf-88eb-22741096eb1a",
   "metadata": {},
   "outputs": [
    {
     "data": {
      "text/plain": [
       "(2.7243406406465125, 2.7243406406465125, 2.7243406406465125)"
      ]
     },
     "execution_count": 41,
     "metadata": {},
     "output_type": "execute_result"
    }
   ],
   "source": [
    "np.var(y), y.var(), np.mean((y-y.mean())**2)"
   ]
  },
  {
   "cell_type": "code",
   "execution_count": 42,
   "id": "2a93b95a-2074-42b5-8b14-32b3a022a9c4",
   "metadata": {},
   "outputs": [
    {
     "data": {
      "text/plain": [
       "(1.6505576756498128, 1.6505576756498128)"
      ]
     },
     "execution_count": 42,
     "metadata": {},
     "output_type": "execute_result"
    }
   ],
   "source": [
    "np.sqrt(np.var(y)), np.std(y)"
   ]
  },
  {
   "cell_type": "code",
   "execution_count": 43,
   "id": "88c97b78-ad9a-49cd-902f-00aab3455d76",
   "metadata": {},
   "outputs": [],
   "source": [
    "x = rng.standard_normal((10,3))"
   ]
  },
  {
   "cell_type": "code",
   "execution_count": 44,
   "id": "2155e9ad-fcbe-49c4-962b-60420a793d7a",
   "metadata": {},
   "outputs": [
    {
     "data": {
      "text/plain": [
       "array([[ 0.22578661, -0.35263079, -0.28128742],\n",
       "       [-0.66804635, -1.05515055, -0.39080098],\n",
       "       [ 0.48194539, -0.23855361,  0.9577587 ],\n",
       "       [-0.19980213,  0.02425957,  1.54582085],\n",
       "       [ 0.54510552, -0.50522874, -0.18283897],\n",
       "       [ 0.54052513,  1.93508803, -0.26962033],\n",
       "       [-0.24355868,  1.0023136 , -0.88645994],\n",
       "       [-0.29172023,  0.88253897,  0.58035002],\n",
       "       [ 0.0915167 ,  0.67010435, -2.82816231],\n",
       "       [ 1.02130682, -0.95964476, -1.66861984]])"
      ]
     },
     "execution_count": 44,
     "metadata": {},
     "output_type": "execute_result"
    }
   ],
   "source": [
    "x"
   ]
  },
  {
   "cell_type": "code",
   "execution_count": 45,
   "id": "259539bf-14cd-4e32-bbcd-c60ccb3411e6",
   "metadata": {},
   "outputs": [
    {
     "data": {
      "text/plain": [
       "array([ 0.15030588,  0.14030961, -0.34238602])"
      ]
     },
     "execution_count": 45,
     "metadata": {},
     "output_type": "execute_result"
    }
   ],
   "source": [
    "x.mean(axis = 0) # mean of each column"
   ]
  },
  {
   "cell_type": "code",
   "execution_count": 46,
   "id": "da5301a2-822e-4b05-b527-e2485b3254dd",
   "metadata": {},
   "outputs": [
    {
     "data": {
      "text/plain": [
       "array([ 0.15030588,  0.14030961, -0.34238602])"
      ]
     },
     "execution_count": 46,
     "metadata": {},
     "output_type": "execute_result"
    }
   ],
   "source": [
    "x.mean(0)"
   ]
  },
  {
   "cell_type": "code",
   "execution_count": null,
   "id": "a99c40de-ee39-41ae-886c-88713473bb24",
   "metadata": {},
   "outputs": [],
   "source": []
  }
 ],
 "metadata": {
  "kernelspec": {
   "display_name": "Python 3 (ipykernel)",
   "language": "python",
   "name": "python3"
  },
  "language_info": {
   "codemirror_mode": {
    "name": "ipython",
    "version": 3
   },
   "file_extension": ".py",
   "mimetype": "text/x-python",
   "name": "python",
   "nbconvert_exporter": "python",
   "pygments_lexer": "ipython3",
   "version": "3.10.16"
  }
 },
 "nbformat": 4,
 "nbformat_minor": 5
}
